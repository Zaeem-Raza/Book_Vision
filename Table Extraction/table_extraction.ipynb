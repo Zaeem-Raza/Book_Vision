{
 "cells": [
  {
   "cell_type": "code",
   "execution_count": null,
   "metadata": {},
   "outputs": [
    {
     "name": "stdout",
     "output_type": "stream",
     "text": [
      "Number of tables extracted: 34\n"
     ]
    },
    {
     "ename": "AttributeError",
     "evalue": "'Table' object has no attribute 'to_dict'",
     "output_type": "error",
     "traceback": [
      "\u001b[1;31m---------------------------------------------------------------------------\u001b[0m",
      "\u001b[1;31mAttributeError\u001b[0m                            Traceback (most recent call last)",
      "Cell \u001b[1;32mIn[3], line 16\u001b[0m\n\u001b[0;32m     13\u001b[0m \u001b[38;5;66;03m# Loop through all tables and save them as JSON files\u001b[39;00m\n\u001b[0;32m     14\u001b[0m \u001b[38;5;28;01mfor\u001b[39;00m i, table \u001b[38;5;129;01min\u001b[39;00m \u001b[38;5;28menumerate\u001b[39m(tables):\n\u001b[0;32m     15\u001b[0m     \u001b[38;5;66;03m# Convert table to a dictionary and save as JSON\u001b[39;00m\n\u001b[1;32m---> 16\u001b[0m     table_dict \u001b[38;5;241m=\u001b[39m table\u001b[38;5;241m.\u001b[39mto_dict()\n\u001b[0;32m     18\u001b[0m     \u001b[38;5;66;03m# Save the dictionary as a JSON file\u001b[39;00m\n\u001b[0;32m     19\u001b[0m     json_filename \u001b[38;5;241m=\u001b[39m \u001b[38;5;124mf\u001b[39m\u001b[38;5;124m\"\u001b[39m\u001b[38;5;124mtable_\u001b[39m\u001b[38;5;132;01m{\u001b[39;00mi\u001b[38;5;250m \u001b[39m\u001b[38;5;241m+\u001b[39m\u001b[38;5;250m \u001b[39m\u001b[38;5;241m1\u001b[39m\u001b[38;5;132;01m}\u001b[39;00m\u001b[38;5;124m.json\u001b[39m\u001b[38;5;124m\"\u001b[39m\n",
      "\u001b[1;31mAttributeError\u001b[0m: 'Table' object has no attribute 'to_dict'"
     ]
    }
   ],
   "source": [
    "import camelot\n",
    "import json\n",
    "\n",
    "# Define the path to your PDF\n",
    "pdf_path = \"your_pdf_file.pdf\"\n",
    "\n",
    "# Extract tables from the PDF\n",
    "tables = camelot.read_pdf(pdf_path, pages='1-end', flavor='stream')\n",
    "\n",
    "# Check how many tables were extracted\n",
    "print(f\"Number of tables extracted: {len(tables)}\")\n",
    "\n",
    "# Loop through all tables and save them as JSON files\n",
    "for i, table in enumerate(tables):\n",
    "    # Convert the table DataFrame to a dictionary\n",
    "    table_dict = table.df.to_dict(orient='records')  # Converts DataFrame to a list of dictionaries\n",
    "    \n",
    "    # Save the dictionary as a JSON file\n",
    "    json_filename = f\"table_{i + 1}.json\"\n",
    "    with open(json_filename, \"w\") as json_file:\n",
    "        json.dump(table_dict, json_file, indent=4)\n",
    "        \n",
    "    print(f\"Table {i + 1} saved as JSON: {json_filename}\")\n",
    "\n",
    "# Optionally, you can also print the first table to see the output in DataFrame form\n",
    "if tables:\n",
    "    print(tables[0].df)\n"
   ]
  },
  {
   "cell_type": "code",
   "execution_count": null,
   "metadata": {},
   "outputs": [],
   "source": []
  }
 ],
 "metadata": {
  "kernelspec": {
   "display_name": "base",
   "language": "python",
   "name": "python3"
  },
  "language_info": {
   "codemirror_mode": {
    "name": "ipython",
    "version": 3
   },
   "file_extension": ".py",
   "mimetype": "text/x-python",
   "name": "python",
   "nbconvert_exporter": "python",
   "pygments_lexer": "ipython3",
   "version": "3.12.4"
  }
 },
 "nbformat": 4,
 "nbformat_minor": 2
}
