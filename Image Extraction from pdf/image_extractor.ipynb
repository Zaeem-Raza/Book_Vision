{
 "cells": [
  {
   "cell_type": "markdown",
   "metadata": {},
   "source": [
    "### Import Libraries and Set Up Directory\n",
    "\n",
    "In this cell, we import the required `fitz` library (PyMuPDF) and set up the directory where the extracted images will be stored.\n"
   ]
  },
  {
   "cell_type": "code",
   "execution_count": 1,
   "metadata": {},
   "outputs": [],
   "source": [
    "import fitz  # PyMuPDF\n",
    "import os\n",
    "\n",
    "# Create directory to store extracted images\n",
    "image_dir = \"extracted_images\"\n",
    "os.makedirs(image_dir, exist_ok=True)\n"
   ]
  },
  {
   "cell_type": "markdown",
   "metadata": {},
   "source": [
    "### Define Function to Extract Images\n",
    "\n",
    "In this cell, we define the `extract_images_from_pdf` function that extracts all images from a PDF file.\n",
    "\n",
    "- It opens the PDF using the `fitz` library.\n",
    "- Iterates through each page and extracts all images.\n",
    "- Saves the images in the `extracted_images` directory as `.png` files.\n",
    "\n",
    "The function also prints the name of each extracted image and a count of total images extracted.\n"
   ]
  },
  {
   "cell_type": "code",
   "execution_count": 2,
   "metadata": {},
   "outputs": [],
   "source": [
    "def extract_images_from_pdf(pdf_path, image_dir):\n",
    "    # Open the PDF file\n",
    "    pdf_document = fitz.open(pdf_path)\n",
    "    \n",
    "    image_count = 0\n",
    "\n",
    "    # Iterate over each page in the PDF\n",
    "    for page_num in range(pdf_document.page_count):\n",
    "        page = pdf_document.load_page(page_num)\n",
    "        \n",
    "        # Get the list of images on the page\n",
    "        image_list = page.get_images(full=True)\n",
    "\n",
    "        # Iterate over each image and save it\n",
    "        for img_index, img in enumerate(image_list):\n",
    "            xref = img[0]\n",
    "            base_image = pdf_document.extract_image(xref)\n",
    "            image_bytes = base_image[\"image\"]\n",
    "            image_filename = os.path.join(image_dir, f\"image_{page_num + 1}_{img_index + 1}.png\")\n",
    "            \n",
    "            # Save the image as a PNG file\n",
    "            with open(image_filename, \"wb\") as img_file:\n",
    "                img_file.write(image_bytes)\n",
    "\n",
    "            image_count += 1\n",
    "            print(f\"Extracted image {image_filename}\")\n",
    "\n",
    "    print(f\"Extraction complete. Total images extracted: {image_count}\")\n",
    "\n"
   ]
  },
  {
   "cell_type": "markdown",
   "metadata": {},
   "source": [
    "### Extract Images from the PDF\n",
    "\n",
    "In this cell, we provide the path to the PDF file and call the `extract_images_from_pdf` function to extract the images. The images will be saved in the `extracted_images` directory.\n"
   ]
  },
  {
   "cell_type": "code",
   "execution_count": 3,
   "metadata": {},
   "outputs": [
    {
     "name": "stdout",
     "output_type": "stream",
     "text": [
      "Extracted image extracted_images\\image_3_1.png\n",
      "Extracted image extracted_images\\image_4_1.png\n",
      "Extracted image extracted_images\\image_4_2.png\n",
      "Extracted image extracted_images\\image_5_1.png\n",
      "Extracted image extracted_images\\image_5_2.png\n",
      "Extracted image extracted_images\\image_5_3.png\n",
      "Extracted image extracted_images\\image_5_4.png\n",
      "Extracted image extracted_images\\image_5_5.png\n",
      "Extracted image extracted_images\\image_6_1.png\n",
      "Extracted image extracted_images\\image_6_2.png\n",
      "Extracted image extracted_images\\image_7_1.png\n",
      "Extracted image extracted_images\\image_8_1.png\n",
      "Extracted image extracted_images\\image_10_1.png\n",
      "Extracted image extracted_images\\image_11_1.png\n",
      "Extracted image extracted_images\\image_12_1.png\n",
      "Extracted image extracted_images\\image_13_1.png\n",
      "Extracted image extracted_images\\image_14_1.png\n",
      "Extracted image extracted_images\\image_16_1.png\n",
      "Extracted image extracted_images\\image_18_1.png\n",
      "Extracted image extracted_images\\image_19_1.png\n",
      "Extracted image extracted_images\\image_20_1.png\n",
      "Extracted image extracted_images\\image_20_2.png\n",
      "Extracted image extracted_images\\image_23_1.png\n",
      "Extracted image extracted_images\\image_23_2.png\n",
      "Extracted image extracted_images\\image_25_1.png\n",
      "Extracted image extracted_images\\image_25_2.png\n",
      "Extracted image extracted_images\\image_26_1.png\n",
      "Extracted image extracted_images\\image_28_1.png\n",
      "Extracted image extracted_images\\image_32_1.png\n",
      "Extracted image extracted_images\\image_34_1.png\n",
      "Extracted image extracted_images\\image_34_2.png\n",
      "Extracted image extracted_images\\image_36_1.png\n",
      "Extracted image extracted_images\\image_37_1.png\n",
      "Extracted image extracted_images\\image_38_1.png\n",
      "Extracted image extracted_images\\image_38_2.png\n",
      "Extracted image extracted_images\\image_39_1.png\n",
      "Extracted image extracted_images\\image_40_1.png\n",
      "Extracted image extracted_images\\image_41_1.png\n",
      "Extracted image extracted_images\\image_42_1.png\n",
      "Extracted image extracted_images\\image_43_1.png\n",
      "Extracted image extracted_images\\image_44_1.png\n",
      "Extracted image extracted_images\\image_45_1.png\n",
      "Extracted image extracted_images\\image_45_2.png\n",
      "Extracted image extracted_images\\image_46_1.png\n",
      "Extracted image extracted_images\\image_47_1.png\n",
      "Extracted image extracted_images\\image_47_2.png\n",
      "Extracted image extracted_images\\image_48_1.png\n",
      "Extracted image extracted_images\\image_48_2.png\n",
      "Extracted image extracted_images\\image_49_1.png\n",
      "Extracted image extracted_images\\image_49_2.png\n",
      "Extracted image extracted_images\\image_49_3.png\n",
      "Extracted image extracted_images\\image_51_1.png\n",
      "Extraction complete. Total images extracted: 52\n"
     ]
    }
   ],
   "source": [
    "# Example usage\n",
    "pdf_path = \"bio chap4.pdf\"\n",
    "extract_images_from_pdf(pdf_path, image_dir)\n"
   ]
  },
  {
   "cell_type": "code",
   "execution_count": null,
   "metadata": {},
   "outputs": [],
   "source": []
  }
 ],
 "metadata": {
  "kernelspec": {
   "display_name": "base",
   "language": "python",
   "name": "python3"
  },
  "language_info": {
   "codemirror_mode": {
    "name": "ipython",
    "version": 3
   },
   "file_extension": ".py",
   "mimetype": "text/x-python",
   "name": "python",
   "nbconvert_exporter": "python",
   "pygments_lexer": "ipython3",
   "version": "3.12.4"
  }
 },
 "nbformat": 4,
 "nbformat_minor": 2
}
