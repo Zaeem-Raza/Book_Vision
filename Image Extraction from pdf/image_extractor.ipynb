{
 "cells": [
  {
   "cell_type": "markdown",
   "metadata": {},
   "source": [
    "### Import Libraries and Set Up Directory\n",
    "\n",
    "In this cell, we import the required `fitz` library (PyMuPDF) and set up the directory where the extracted images will be stored.\n"
   ]
  },
  {
   "cell_type": "code",
   "execution_count": 1,
   "metadata": {},
   "outputs": [],
   "source": [
    "import fitz  # PyMuPDF\n",
    "import os\n",
    "\n",
    "image_dir = \"extracted_images\"\n",
    "os.makedirs(image_dir, exist_ok=True)"
   ]
  },
  {
   "cell_type": "markdown",
   "metadata": {},
   "source": [
    "### Define Function to Extract Images\n",
    "\n",
    "In this cell, we define the `extract_images_from_pdf` function that extracts all images from a PDF file.\n",
    "\n",
    "- It opens the PDF using the `fitz` library.\n",
    "- Iterates through each page and extracts all images.\n",
    "- Saves the images in the `extracted_images` directory as `.png` files.\n",
    "\n",
    "The function also prints the name of each extracted image and a count of total images extracted.\n"
   ]
  },
  {
   "cell_type": "code",
   "execution_count": 2,
   "metadata": {},
   "outputs": [],
   "source": [
    "def extract_images_from_pdf(pdf_path, image_dir):\n",
    "    pdf_document = fitz.open(pdf_path)\n",
    "\n",
    "    image_count = 0\n",
    "    for page_num in range(pdf_document.page_count):\n",
    "        page = pdf_document.load_page(page_num)\n",
    "\n",
    "        image_list = page.get_images(full=True)\n",
    "\n",
    "        for img_index, img in enumerate(image_list):\n",
    "            xref = img[0]\n",
    "            base_image = pdf_document.extract_image(xref)\n",
    "            image_bytes = base_image[\"image\"]\n",
    "            image_filename = os.path.join(\n",
    "                image_dir, f\"image_{page_num + 1}_{img_index + 1}.png\")\n",
    "\n",
    "            with open(image_filename, \"wb\") as img_file:\n",
    "                img_file.write(image_bytes)\n",
    "\n",
    "            image_count += 1\n",
    "            print(f\"Extracted image {image_filename}\")\n",
    "\n",
    "    print(f\"Extraction complete. Total images extracted: {image_count}\")"
   ]
  },
  {
   "cell_type": "markdown",
   "metadata": {},
   "source": [
    "### Extract Images from the PDF\n",
    "\n",
    "In this cell, we provide the path to the PDF file and call the `extract_images_from_pdf` function to extract the images. The images will be saved in the `extracted_images` directory.\n"
   ]
  },
  {
   "cell_type": "code",
   "execution_count": 3,
   "metadata": {},
   "outputs": [
    {
     "name": "stdout",
     "output_type": "stream",
     "text": [
      "Extracted image extracted_images\\image_1_1.png\n",
      "Extracted image extracted_images\\image_1_2.png\n",
      "Extracted image extracted_images\\image_1_3.png\n",
      "Extracted image extracted_images\\image_1_4.png\n",
      "Extracted image extracted_images\\image_5_1.png\n",
      "Extracted image extracted_images\\image_5_2.png\n",
      "Extracted image extracted_images\\image_5_3.png\n",
      "Extracted image extracted_images\\image_5_4.png\n",
      "Extracted image extracted_images\\image_7_1.png\n",
      "Extracted image extracted_images\\image_7_2.png\n",
      "Extracted image extracted_images\\image_7_3.png\n",
      "Extracted image extracted_images\\image_7_4.png\n",
      "Extracted image extracted_images\\image_9_1.png\n",
      "Extracted image extracted_images\\image_9_2.png\n",
      "Extracted image extracted_images\\image_9_3.png\n",
      "Extracted image extracted_images\\image_9_4.png\n",
      "Extracted image extracted_images\\image_9_5.png\n",
      "Extracted image extracted_images\\image_9_6.png\n",
      "Extracted image extracted_images\\image_10_1.png\n",
      "Extracted image extracted_images\\image_10_2.png\n",
      "Extracted image extracted_images\\image_10_3.png\n",
      "Extracted image extracted_images\\image_10_4.png\n",
      "Extracted image extracted_images\\image_10_5.png\n",
      "Extracted image extracted_images\\image_10_6.png\n",
      "Extracted image extracted_images\\image_10_7.png\n",
      "Extracted image extracted_images\\image_10_8.png\n",
      "Extracted image extracted_images\\image_10_9.png\n",
      "Extracted image extracted_images\\image_10_10.png\n",
      "Extracted image extracted_images\\image_10_11.png\n",
      "Extracted image extracted_images\\image_11_1.png\n",
      "Extracted image extracted_images\\image_11_2.png\n",
      "Extracted image extracted_images\\image_11_3.png\n",
      "Extracted image extracted_images\\image_12_1.png\n",
      "Extracted image extracted_images\\image_12_2.png\n",
      "Extracted image extracted_images\\image_12_3.png\n",
      "Extracted image extracted_images\\image_12_4.png\n",
      "Extracted image extracted_images\\image_12_5.png\n",
      "Extracted image extracted_images\\image_12_6.png\n",
      "Extracted image extracted_images\\image_13_1.png\n",
      "Extracted image extracted_images\\image_13_2.png\n",
      "Extracted image extracted_images\\image_13_3.png\n",
      "Extracted image extracted_images\\image_13_4.png\n",
      "Extracted image extracted_images\\image_13_5.png\n",
      "Extracted image extracted_images\\image_13_6.png\n",
      "Extracted image extracted_images\\image_13_7.png\n",
      "Extracted image extracted_images\\image_13_8.png\n",
      "Extracted image extracted_images\\image_14_1.png\n",
      "Extracted image extracted_images\\image_14_2.png\n",
      "Extracted image extracted_images\\image_15_1.png\n",
      "Extracted image extracted_images\\image_15_2.png\n",
      "Extracted image extracted_images\\image_15_3.png\n",
      "Extracted image extracted_images\\image_15_4.png\n",
      "Extracted image extracted_images\\image_16_1.png\n",
      "Extracted image extracted_images\\image_16_2.png\n",
      "Extracted image extracted_images\\image_16_3.png\n",
      "Extracted image extracted_images\\image_16_4.png\n",
      "Extracted image extracted_images\\image_16_5.png\n",
      "Extracted image extracted_images\\image_19_1.png\n",
      "Extracted image extracted_images\\image_19_2.png\n",
      "Extracted image extracted_images\\image_19_3.png\n",
      "Extracted image extracted_images\\image_19_4.png\n",
      "Extracted image extracted_images\\image_19_5.png\n",
      "Extracted image extracted_images\\image_19_6.png\n",
      "Extracted image extracted_images\\image_19_7.png\n",
      "Extracted image extracted_images\\image_19_8.png\n",
      "Extracted image extracted_images\\image_19_9.png\n",
      "Extracted image extracted_images\\image_19_10.png\n",
      "Extracted image extracted_images\\image_19_11.png\n",
      "Extracted image extracted_images\\image_19_12.png\n",
      "Extracted image extracted_images\\image_19_13.png\n",
      "Extracted image extracted_images\\image_19_14.png\n",
      "Extracted image extracted_images\\image_19_15.png\n",
      "Extracted image extracted_images\\image_19_16.png\n",
      "Extracted image extracted_images\\image_19_17.png\n",
      "Extracted image extracted_images\\image_19_18.png\n",
      "Extracted image extracted_images\\image_20_1.png\n",
      "Extracted image extracted_images\\image_20_2.png\n",
      "Extracted image extracted_images\\image_26_1.png\n",
      "Extracted image extracted_images\\image_26_2.png\n",
      "Extraction complete. Total images extracted: 79\n"
     ]
    }
   ],
   "source": [
    "# Example usage\n",
    "pdf_path = \"physicschapter6.pdf\"\n",
    "extract_images_from_pdf(pdf_path, image_dir)"
   ]
  },
  {
   "cell_type": "code",
   "execution_count": null,
   "metadata": {},
   "outputs": [],
   "source": []
  }
 ],
 "metadata": {
  "kernelspec": {
   "display_name": "fyp",
   "language": "python",
   "name": "python3"
  },
  "language_info": {
   "codemirror_mode": {
    "name": "ipython",
    "version": 3
   },
   "file_extension": ".py",
   "mimetype": "text/x-python",
   "name": "python",
   "nbconvert_exporter": "python",
   "pygments_lexer": "ipython3",
   "version": "3.11.10"
  }
 },
 "nbformat": 4,
 "nbformat_minor": 2
}
