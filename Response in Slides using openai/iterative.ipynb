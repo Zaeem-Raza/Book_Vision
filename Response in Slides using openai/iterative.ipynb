{
 "cells": [
  {
   "cell_type": "markdown",
   "metadata": {},
   "source": [
    "#### import required libraries\n"
   ]
  },
  {
   "cell_type": "code",
   "execution_count": 1,
   "metadata": {},
   "outputs": [],
   "source": [
    "\n",
    "import openai  \n",
    "import my_secrets\n",
    "import os\n",
    "import subprocess\n",
    "from sentence_transformers import SentenceTransformer  \n",
    "import faiss  \n",
    "import numpy as np\n",
    "import chunks"
   ]
  },
  {
   "cell_type": "markdown",
   "metadata": {},
   "source": [
    "`Using sentence Transformer for embeddings`\n"
   ]
  },
  {
   "cell_type": "code",
   "execution_count": 2,
   "metadata": {},
   "outputs": [],
   "source": [
    "embedding_model = SentenceTransformer('all-MiniLM-L6-v2')\n",
    "dimension = 384\n",
    "index = faiss.IndexFlatL2(dimension)\n",
    "embeddings = []\n",
    "MyChunks = chunks.Mychunks"
   ]
  },
  {
   "cell_type": "markdown",
   "metadata": {},
   "source": [
    "make embeddings\n"
   ]
  },
  {
   "cell_type": "code",
   "execution_count": 13,
   "metadata": {},
   "outputs": [],
   "source": [
    "def embed_and_index_chunks():\n",
    "    global embeddings\n",
    "    if embeddings:\n",
    "        print(\"Chunks already embedded and indexed.\")\n",
    "        return\n",
    "    for chunk in MyChunks:\n",
    "        text = chunk['text']\n",
    "        embedding = embedding_model.encode(text)\n",
    "        embeddings.append(embedding)\n",
    "        index.add(np.array([embedding]).astype(\"float32\"))\n",
    "    print(\"all ok - chunks embedded and indexed\")\n"
   ]
  },
  {
   "cell_type": "markdown",
   "metadata": {},
   "source": [
    "get top-k similar sentences based on query sentence\n"
   ]
  },
  {
   "cell_type": "code",
   "execution_count": 14,
   "metadata": {},
   "outputs": [],
   "source": [
    "def retrieve_chunks(query, top_k=10):\n",
    "    query_embedding = embedding_model.encode(query)\n",
    "    distances, indices = index.search(\n",
    "        np.array([query_embedding]).astype(\"float32\"), top_k)\n",
    "    print(\"All ok - chunks retrieved\")\n",
    "    return [MyChunks[i] for i in indices[0]]"
   ]
  },
  {
   "cell_type": "markdown",
   "metadata": {},
   "source": [
    "generate answer based on chunks\n"
   ]
  },
  {
   "cell_type": "code",
   "execution_count": 15,
   "metadata": {},
   "outputs": [],
   "source": [
    "def generate_answer(query, retrieved_chunks):\n",
    "    context = \"\\n\\n\".join(\n",
    "        [f\"Page {chunk['page']}: {chunk['text']}\" for chunk in retrieved_chunks])\n",
    "    print(\"All ok - answer generated\")\n",
    "    return f\"Answer the question based on the following textbook content:\\n\\n{context}\\n\\nQuestion: {query}\\nAnswer:\"\n"
   ]
  },
  {
   "cell_type": "markdown",
   "metadata": {},
   "source": [
    "`Running the Rag pipeline`\n"
   ]
  },
  {
   "cell_type": "code",
   "execution_count": 16,
   "metadata": {},
   "outputs": [],
   "source": [
    "def run_rag_pipeline(pdf_path, query):\n",
    "    if not MyChunks:\n",
    "        return \"No data available.\"\n",
    "    embed_and_index_chunks()\n",
    "    retrieved_chunks = retrieve_chunks(query,5)\n",
    "    print(\"All ok - chunks retrieved\")\n",
    "    return generate_answer(query, retrieved_chunks)"
   ]
  },
  {
   "cell_type": "markdown",
   "metadata": {},
   "source": [
    "`define openai key`\n"
   ]
  },
  {
   "cell_type": "code",
   "execution_count": 17,
   "metadata": {},
   "outputs": [],
   "source": [
    "def load_openai_key():\n",
    "    return my_secrets.OPEN_AI_SECRET_KEY"
   ]
  },
  {
   "cell_type": "code",
   "execution_count": 8,
   "metadata": {},
   "outputs": [],
   "source": [
    "def call_openai_chat(prompt,system_msg, model=\"gpt-3.5-turbo\", max_tokens=4000):\n",
    "    openai.api_key = load_openai_key()\n",
    "    try:\n",
    "        response = openai.ChatCompletion.create(\n",
    "            model=model,\n",
    "            messages=[{\"role\": \"system\", \"content\": {system_msg}},\n",
    "                      {\"role\": \"user\", \"content\": prompt}],\n",
    "            max_tokens=4000,\n",
    "            temperature=0.7\n",
    "        )\n",
    "        return response['choices'][0]['message']['content'].strip()\n",
    "    except Exception as e:\n",
    "        return f\"An error occurred: {e}\""
   ]
  },
  {
   "cell_type": "markdown",
   "metadata": {},
   "source": [
    "`save latex code to file`\n"
   ]
  },
  {
   "cell_type": "code",
   "execution_count": 9,
   "metadata": {},
   "outputs": [],
   "source": [
    "def save_to_file(filename, content):\n",
    "    with open(filename, 'w') as f:\n",
    "        f.write(content)"
   ]
  },
  {
   "cell_type": "markdown",
   "metadata": {},
   "source": [
    "`compiling latex code to pdf`\n"
   ]
  },
  {
   "cell_type": "code",
   "execution_count": 10,
   "metadata": {},
   "outputs": [],
   "source": [
    "def compile_latex_to_pdf(tex_file):\n",
    "    try:\n",
    "        subprocess.run([\"pdflatex\", tex_file], check=True)\n",
    "        pdf_file = tex_file.replace('.tex', '.pdf')\n",
    "        return pdf_file if os.path.exists(pdf_file) else None\n",
    "    except subprocess.CalledProcessError as e:\n",
    "        print(f\"Error compiling LaTeX: {e}\")\n",
    "        return None"
   ]
  },
  {
   "cell_type": "markdown",
   "metadata": {},
   "source": [
    "`clean latex code`\n"
   ]
  },
  {
   "cell_type": "code",
   "execution_count": 11,
   "metadata": {},
   "outputs": [],
   "source": [
    "def extract_latex_code(raw_response):\n",
    "    lines = raw_response.split(\"\\n\")\n",
    "    in_code_block = False\n",
    "    cleaned_lines = []\n",
    "    for line in lines:\n",
    "        if line.strip().startswith(\"```latex\"):\n",
    "            in_code_block = True\n",
    "            continue\n",
    "        if line.strip() == \"```\":\n",
    "            in_code_block = False\n",
    "            continue\n",
    "        if in_code_block:\n",
    "            cleaned_lines.append(line)\n",
    "    return \"\\n\".join(cleaned_lines)"
   ]
  },
  {
   "cell_type": "markdown",
   "metadata": {},
   "source": [
    "`main`\n"
   ]
  },
  {
   "cell_type": "code",
   "execution_count": 18,
   "metadata": {},
   "outputs": [
    {
     "name": "stdout",
     "output_type": "stream",
     "text": [
      "Chunks already embedded and indexed.\n",
      "All ok - chunks retrieved\n",
      "All ok - chunks retrieved\n",
      "All ok - answer generated\n",
      "Answer the question based on the following textbook content:\n",
      "\n",
      "Page 80:  Newton's second law of motion states that when a net force acts on a body, it produces acceleration in the body in the direction of the net force. The magnitude of this acceleration is directly proportional to the net force acting on it and inversely proportional to its mass. Mathematically, F = ma.  SI unit of force is newton (N). It is defined as the force which produces 2 an acceleration of 1 ms\" in a body of mass 1 kg.  Mass of a body is the quantity of matter possessed by it. It is a scalar\n",
      "\n",
      "Page 107: the Earth. This unit deals with the concepts related to gravitation. 5.1 THE FORCE OF GRAVITATION On the basis of his observations, Newton concluded that the force which causes an apple to fall on the Earth and the force which keeps the moon in its orbit are of the same nature. He further concluded that there exists a force due to which everybody of the universe attracts every other body. He named this force the force of gravitation. LAW OF GRAVITATION According to Newton's law of universal gravitation: Everybody in the universe attracts every other body with a force which\n",
      "\n",
      "Page 57: the motion of a body and what role the mass of a body plays in its motion. This inquiry leads us to the concept of force. We shall also study the laws of motion and their applications. 3.1 FORCE, INERTIA AND MOMENTUM Newton's laws of motion are of fundamental importance in understanding the causes of motion of a body. Before we discuss these laws, it is appropriate to understand various terms such as force, inertia and momentum. FORCE We can open a door either by pushing or pulling it Figure 3.1 shows a man pushing a cart. The push may\n",
      "\n",
      "Page 58: Unit 3: Dynamics Physics IX 58 A force moves or tends to move, stops or tends to stop the motion of a body. The force can also change the direction of motion of a body. What happens when you press a balloon? You can cut an apple with a knife by pushing its sharp edge into the apple. Thus a force can also change the shape or size of a body on which it acts. INERTIA Galileo observed that it is easy to move or to stop light objects than heavier ones. Heavier objects are difficult to move or if\n",
      "\n",
      "Page 63: A on B is the action force whereas the force exerted by body B on A is called the reaction force. Newton's third law of motion states that: To every action there is always an equal but opposite reaction. According to this law, action is always accompanied by a reaction force and the two forces must always be equal and opposite. Note that action and reaction forces act on different bodies. Consider a book lying on a table as shown in figure 3.8. The weight of the book is acting on the table in the downward direction. This is the\n",
      "\n",
      "Question: what is force\n",
      "Answer:\n",
      "An error occurred: Object of type set is not JSON serializable\n"
     ]
    }
   ],
   "source": [
    "# Cell 12: Main execution - Get user's prompt, process the document, generate LaTeX Beamer code, and compile into PDF\n",
    "\n",
    "# Step 1: Get the user's query\n",
    "user_prompt = input(\"Enter your prompt: \")\n",
    "\n",
    "# Step 2: Retrieve relevant chunks from the textbook\n",
    "pdf_path = \"Physics 9.pdf\"\n",
    "answer = run_rag_pipeline(pdf_path, user_prompt)\n",
    "print(answer)\n",
    "\n",
    "\n",
    "my_prompt = \"Read the following text and improve the text:\\n\\n\" + answer\n",
    "\n",
    "# call openai chat\n",
    "msg=\"You are an expert in Physics\"\n",
    "response = call_openai_chat(my_prompt,msg)\n",
    "print(response)\n",
    "# # Step 3: Generate LaTeX Beamer code using OpenAI\n",
    "# beamer_prompt = (\n",
    "#     f\"Create a detailed LaTeX Beamer presentation on the following topic:\\n\\n\"\n",
    "#     f\"{answer}\\n\\n\"\n",
    "#     \"Include equations, bullet points, and TikZ-based diagrams to illustrate concepts. Use only TikZ to draw shapes or vectors \"\n",
    "#     \"instead of relying on external image files. Ensure the output is ready-to-compile Beamer code.\"\n",
    "# )\n",
    "# msg=\"You are an expert in LaTeX and Beamer\"\n",
    "# raw_beamer_code = call_openai_chat(beamer_prompt,msg)\n",
    "\n",
    "# # Step 4: Extract valid LaTeX code\n",
    "# beamer_code = extract_latex_code(raw_beamer_code)\n",
    "\n",
    "# # Step 5: Save LaTeX code to a .tex file\n",
    "# tex_filename = \"response.tex\"\n",
    "# save_to_file(tex_filename, beamer_code)\n",
    "\n",
    "# # Step 6: Compile the .tex file into a PDF\n",
    "# pdf_filename = compile_latex_to_pdf(tex_filename)\n",
    "# if pdf_filename:\n",
    "#     print(f\"PDF generated: {pdf_filename}\")\n",
    "# else:\n",
    "#     print(\"Failed to generate PDF.\")\n"
   ]
  },
  {
   "cell_type": "code",
   "execution_count": null,
   "metadata": {},
   "outputs": [],
   "source": []
  }
 ],
 "metadata": {
  "kernelspec": {
   "display_name": "fyp",
   "language": "python",
   "name": "python3"
  },
  "language_info": {
   "codemirror_mode": {
    "name": "ipython",
    "version": 3
   },
   "file_extension": ".py",
   "mimetype": "text/x-python",
   "name": "python",
   "nbconvert_exporter": "python",
   "pygments_lexer": "ipython3",
   "version": "3.12.7"
  }
 },
 "nbformat": 4,
 "nbformat_minor": 2
}
